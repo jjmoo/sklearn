{
 "cells": [
  {
   "cell_type": "code",
   "execution_count": null,
   "metadata": {},
   "outputs": [],
   "source": [
    "# 导入基本的库\n",
    "import numpy as np\n",
    "import pandas as pd"
   ]
  },
  {
   "cell_type": "code",
   "execution_count": null,
   "metadata": {},
   "outputs": [],
   "source": [
    "import time\n",
    "\n",
    "class Benchmark():\n",
    "    \"\"\"Benchmark programs.\"\"\"\n",
    "    def __init__(self, prefix=None):\n",
    "        self.prefix = prefix + ' ' if prefix else ''\n",
    "\n",
    "    def __enter__(self):\n",
    "        self.start = time.time()\n",
    "\n",
    "    def __exit__(self, *args):\n",
    "        print('%stime: %.4f sec' % (self.prefix, time.time() - self.start))"
   ]
  },
  {
   "cell_type": "code",
   "execution_count": null,
   "metadata": {},
   "outputs": [],
   "source": [
    "def show_data(line):\n",
    "    pd.set_option('display.max_rows', None)\n",
    "    tmp_df = pd.DataFrame([line])\n",
    "    tmp_df.columns = warm_df.iloc[:, 3:].columns\n",
    "    print(tmp_df.head().stack())"
   ]
  },
  {
   "cell_type": "code",
   "execution_count": null,
   "metadata": {},
   "outputs": [],
   "source": [
    "# 读入特征名称，添加label列名\n",
    "with open('data/features.txt', 'r') as fr:\n",
    "    features = np.array([line.strip().split(': ') for line in fr.readlines()])\n",
    "features = np.append(features, ['label', 'symbolic.']).reshape(-1, 2)\n",
    "symbolic_features = features[features[:, 1] == 'symbolic.'][:, 0]\n",
    "features.shape, symbolic_features"
   ]
  },
  {
   "cell_type": "code",
   "execution_count": null,
   "metadata": {
    "scrolled": true
   },
   "outputs": [],
   "source": [
    "# 读取数据文件，展示头几个样本。\n",
    "data_df = pd.read_csv('data/kddcup.data_10_percent', header=None, names=features[:, 0])\n",
    "data_df.head()"
   ]
  },
  {
   "cell_type": "code",
   "execution_count": null,
   "metadata": {},
   "outputs": [],
   "source": [
    "# 内存不够，只保留前10万行数据\n",
    "data_df.drop(data_df.index[100000:], inplace=True)"
   ]
  },
  {
   "cell_type": "code",
   "execution_count": null,
   "metadata": {},
   "outputs": [],
   "source": [
    "# 标签分布极不平衡，合并标签，按攻击类别处理\n",
    "with open('data/labels.txt', 'r') as fr:\n",
    "    labels = np.array([line.strip().split(': ') for line in fr.readlines()])\n",
    "label_types = {}\n",
    "for pair in labels:\n",
    "    label_types[pair[0]] = pair[1]\n",
    "data_df['label_type'] = [label_types[label] for label in data_df['label']]\n",
    "data_df.groupby(['label_type']).size()"
   ]
  },
  {
   "cell_type": "code",
   "execution_count": null,
   "metadata": {},
   "outputs": [],
   "source": [
    "# 判断是否是attack\n",
    "data_df['label_attack'] = ['attack' if label != 'normal.' else 'normal' for label in data_df['label']]\n",
    "data_df.groupby(['label_attack']).size()"
   ]
  },
  {
   "cell_type": "code",
   "execution_count": null,
   "metadata": {},
   "outputs": [],
   "source": [
    "# 有几个类别特征被pandas当做数值处理了，需要转换成object类型\n",
    "to_object = ['land', 'logged_in', 'is_host_login', 'is_guest_login']\n",
    "data_df[to_object] = data_df[to_object].astype('object')\n",
    "object_features = data_df.columns[data_df.dtypes == 'object']\n",
    "numberic_features = data_df.columns[data_df.dtypes != 'object']"
   ]
  },
  {
   "cell_type": "code",
   "execution_count": null,
   "metadata": {},
   "outputs": [],
   "source": [
    "# 将类别特征转换成独热编码，label、label_type、normal是标签，不需要转换\n",
    "object_features_one_hot = pd.get_dummies(data_df[object_features[:-3]])\n",
    "# 将数据按照标签+独热编码+数值类型排列，获得用来训练和测试的数据集\n",
    "warm_df = data_df.iloc[:, -3:].join(object_features_one_hot).join(data_df[numberic_features])\n",
    "warm_df.head()"
   ]
  },
  {
   "cell_type": "code",
   "execution_count": null,
   "metadata": {
    "scrolled": true
   },
   "outputs": [],
   "source": [
    "from sklearn.model_selection import train_test_split\n",
    "from sklearn.tree import DecisionTreeClassifier\n",
    "\n",
    "feature_names = np.array(warm_df.columns[3:].tolist())\n",
    "\n",
    "X_train, X_test, y_train, y_test = train_test_split(\n",
    "    warm_df[feature_names].values, \n",
    "    warm_df['label_type'].values,\n",
    "    test_size=0.2\n",
    ")\n",
    "\n",
    "\n",
    "dt_clf = DecisionTreeClassifier(criterion='entropy',\n",
    "                                min_samples_split=3,\n",
    "                                min_samples_leaf=1,\n",
    "                                max_depth=20)\n",
    "dt_clf.fit(X_train, y_train)"
   ]
  },
  {
   "cell_type": "code",
   "execution_count": null,
   "metadata": {},
   "outputs": [],
   "source": [
    "X_test[1]"
   ]
  },
  {
   "cell_type": "code",
   "execution_count": null,
   "metadata": {},
   "outputs": [],
   "source": [
    "dt_clf.predict([X_test[20]])"
   ]
  },
  {
   "cell_type": "code",
   "execution_count": null,
   "metadata": {
    "scrolled": true
   },
   "outputs": [],
   "source": [
    "[X_test[20]]"
   ]
  },
  {
   "cell_type": "code",
   "execution_count": null,
   "metadata": {},
   "outputs": [],
   "source": [
    "with Benchmark(\"predict one\"):\n",
    "    dt_clf.predict(X_train[:50000])\n",
    "with Benchmark(\"predict one\"):\n",
    "    dt_clf.predict(X_train[:100000])\n",
    "\n"
   ]
  },
  {
   "cell_type": "code",
   "execution_count": null,
   "metadata": {},
   "outputs": [],
   "source": [
    "show_data(X_test[20])"
   ]
  },
  {
   "cell_type": "code",
   "execution_count": null,
   "metadata": {},
   "outputs": [],
   "source": []
  }
 ],
 "metadata": {
  "kernelspec": {
   "display_name": "Python 3",
   "language": "python",
   "name": "python3"
  },
  "language_info": {
   "codemirror_mode": {
    "name": "ipython",
    "version": 3
   },
   "file_extension": ".py",
   "mimetype": "text/x-python",
   "name": "python",
   "nbconvert_exporter": "python",
   "pygments_lexer": "ipython3",
   "version": "3.7.6"
  }
 },
 "nbformat": 4,
 "nbformat_minor": 4
}
